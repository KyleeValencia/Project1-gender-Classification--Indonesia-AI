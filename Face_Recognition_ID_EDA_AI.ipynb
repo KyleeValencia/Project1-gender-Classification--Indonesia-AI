{
  "metadata": {
    "kernelspec": {
      "language": "python",
      "display_name": "Python 3",
      "name": "python3"
    },
    "language_info": {
      "name": "python",
      "version": "3.10.13",
      "mimetype": "text/x-python",
      "codemirror_mode": {
        "name": "ipython",
        "version": 3
      },
      "pygments_lexer": "ipython3",
      "nbconvert_exporter": "python",
      "file_extension": ".py"
    },
    "kaggle": {
      "accelerator": "none",
      "dataSources": [
        {
          "sourceId": 7834093,
          "sourceType": "datasetVersion",
          "datasetId": 4591759
        }
      ],
      "dockerImageVersionId": 30664,
      "isInternetEnabled": true,
      "language": "python",
      "sourceType": "notebook",
      "isGpuEnabled": false
    },
    "colab": {
      "name": "Face Recognition ID EDA.AI",
      "provenance": [],
      "include_colab_link": true
    }
  },
  "nbformat_minor": 0,
  "nbformat": 4,
  "cells": [
    {
      "cell_type": "markdown",
      "metadata": {
        "id": "view-in-github",
        "colab_type": "text"
      },
      "source": [
        "<a href=\"https://colab.research.google.com/github/KyleeValencia/Project1-gender-Classification--Indonesia-AI/blob/main/Face_Recognition_ID_EDA_AI.ipynb\" target=\"_parent\"><img src=\"https://colab.research.google.com/assets/colab-badge.svg\" alt=\"Open In Colab\"/></a>"
      ]
    },
    {
      "source": [
        "\n",
        "# IMPORTANT: RUN THIS CELL IN ORDER TO IMPORT YOUR KAGGLE DATA SOURCES\n",
        "# TO THE CORRECT LOCATION (/kaggle/input) IN YOUR NOTEBOOK,\n",
        "# THEN FEEL FREE TO DELETE THIS CELL.\n",
        "# NOTE: THIS NOTEBOOK ENVIRONMENT DIFFERS FROM KAGGLE'S PYTHON\n",
        "# ENVIRONMENT SO THERE MAY BE MISSING LIBRARIES USED BY YOUR\n",
        "# NOTEBOOK.\n",
        "\n",
        "import os\n",
        "import sys\n",
        "from tempfile import NamedTemporaryFile\n",
        "from urllib.request import urlopen\n",
        "from urllib.parse import unquote, urlparse\n",
        "from urllib.error import HTTPError\n",
        "from zipfile import ZipFile\n",
        "import tarfile\n",
        "import shutil\n",
        "\n",
        "CHUNK_SIZE = 40960\n",
        "DATA_SOURCE_MAPPING = 'project-1-face-recognition-ai-indonesia:https%3A%2F%2Fstorage.googleapis.com%2Fkaggle-data-sets%2F4591759%2F7834093%2Fbundle%2Farchive.zip%3FX-Goog-Algorithm%3DGOOG4-RSA-SHA256%26X-Goog-Credential%3Dgcp-kaggle-com%2540kaggle-161607.iam.gserviceaccount.com%252F20240315%252Fauto%252Fstorage%252Fgoog4_request%26X-Goog-Date%3D20240315T155250Z%26X-Goog-Expires%3D259200%26X-Goog-SignedHeaders%3Dhost%26X-Goog-Signature%3D99ff33e64b564d8b661b654bb36cb5c485d326f5112623e3f8905e8f9f5fa3d1f7e1e5aa2c46bfddd2c9240f0cafc2f815306a5da6a06f83adc44776e08c196d4e80a3ba40e1792884af1392358c239beff83720bbb8ffe89c7e0e64fe84551f9b28ec0f22c08f9ec048ae5b326ce5ded14b0461f598dea6adfa9b267e66fe583800a7f9e3b619a4443738f3ed1c91d70c10c62398e86e3a3fdaba9aa3ffe420a2d1a32e654052cf1d61fe52061ab0d7dc4df5b7ffe238f4614620e8ec36fb899eafbacf90f02e747582d7a15683dbd2120583af6d78c02a522ddccce1e6e9c4323458346d1415b9dc99d18622a104a3020a1d5799bbddb99e66b20e33c59a08'\n",
        "\n",
        "KAGGLE_INPUT_PATH='/kaggle/input'\n",
        "KAGGLE_WORKING_PATH='/kaggle/working'\n",
        "KAGGLE_SYMLINK='kaggle'\n",
        "\n",
        "!umount /kaggle/input/ 2> /dev/null\n",
        "shutil.rmtree('/kaggle/input', ignore_errors=True)\n",
        "os.makedirs(KAGGLE_INPUT_PATH, 0o777, exist_ok=True)\n",
        "os.makedirs(KAGGLE_WORKING_PATH, 0o777, exist_ok=True)\n",
        "\n",
        "try:\n",
        "  os.symlink(KAGGLE_INPUT_PATH, os.path.join(\"..\", 'input'), target_is_directory=True)\n",
        "except FileExistsError:\n",
        "  pass\n",
        "try:\n",
        "  os.symlink(KAGGLE_WORKING_PATH, os.path.join(\"..\", 'working'), target_is_directory=True)\n",
        "except FileExistsError:\n",
        "  pass\n",
        "\n",
        "for data_source_mapping in DATA_SOURCE_MAPPING.split(','):\n",
        "    directory, download_url_encoded = data_source_mapping.split(':')\n",
        "    download_url = unquote(download_url_encoded)\n",
        "    filename = urlparse(download_url).path\n",
        "    destination_path = os.path.join(KAGGLE_INPUT_PATH, directory)\n",
        "    try:\n",
        "        with urlopen(download_url) as fileres, NamedTemporaryFile() as tfile:\n",
        "            total_length = fileres.headers['content-length']\n",
        "            print(f'Downloading {directory}, {total_length} bytes compressed')\n",
        "            dl = 0\n",
        "            data = fileres.read(CHUNK_SIZE)\n",
        "            while len(data) > 0:\n",
        "                dl += len(data)\n",
        "                tfile.write(data)\n",
        "                done = int(50 * dl / int(total_length))\n",
        "                sys.stdout.write(f\"\\r[{'=' * done}{' ' * (50-done)}] {dl} bytes downloaded\")\n",
        "                sys.stdout.flush()\n",
        "                data = fileres.read(CHUNK_SIZE)\n",
        "            if filename.endswith('.zip'):\n",
        "              with ZipFile(tfile) as zfile:\n",
        "                zfile.extractall(destination_path)\n",
        "            else:\n",
        "              with tarfile.open(tfile.name) as tarfile:\n",
        "                tarfile.extractall(destination_path)\n",
        "            print(f'\\nDownloaded and uncompressed: {directory}')\n",
        "    except HTTPError as e:\n",
        "        print(f'Failed to load (likely expired) {download_url} to path {destination_path}')\n",
        "        continue\n",
        "    except OSError as e:\n",
        "        print(f'Failed to load {download_url} to path {destination_path}')\n",
        "        continue\n",
        "\n",
        "print('Data source import complete.')\n"
      ],
      "metadata": {
        "id": "KrPq9kfd6__C"
      },
      "cell_type": "code",
      "outputs": [],
      "execution_count": null
    },
    {
      "cell_type": "code",
      "source": [
        "# This Python 3 environment comes with many helpful analytics libraries installed\n",
        "# It is defined by the kaggle/python Docker image: https://github.com/kaggle/docker-python\n",
        "# For example, here's several helpful packages to load\n",
        "\n",
        "import numpy as np # linear algebra\n",
        "import pandas as pd # data processing, CSV file I/O (e.g. pd.read_csv)\n",
        "\n",
        "# Input data files are available in the read-only \"../input/\" directory\n",
        "# For example, running this (by clicking run or pressing Shift+Enter) will list all files under the input directory\n",
        "\n",
        "import os\n",
        "for dirname, _, filenames in os.walk('/kaggle/input'):\n",
        "    for filename in filenames:\n",
        "        print(os.path.join(dirname, filename))\n",
        "\n",
        "# You can write up to 20GB to the current directory (/kaggle/working/) that gets preserved as output when you create a version using \"Save & Run All\"\n",
        "# You can also write temporary files to /kaggle/temp/, but they won't be saved outside of the current session"
      ],
      "metadata": {
        "_uuid": "8f2839f25d086af736a60e9eeb907d3b93b6e0e5",
        "_cell_guid": "b1076dfc-b9ad-4769-8c92-a6c4dae69d19",
        "execution": {
          "iopub.status.busy": "2024-03-15T14:14:31.955988Z",
          "iopub.execute_input": "2024-03-15T14:14:31.956428Z"
        },
        "trusted": true,
        "id": "QyDNr7UY6__I",
        "outputId": "d4400123-5cb3-4877-d7f9-477dd76a8b32"
      },
      "execution_count": null,
      "outputs": [
        {
          "name": "stdout",
          "text": "/kaggle/input/project-1-face-recognition-ai-indonesia/Dataset/gender_classification.xlsx\n/kaggle/input/project-1-face-recognition-ai-indonesia/Dataset/list_attribute.txt\n/kaggle/input/project-1-face-recognition-ai-indonesia/Dataset/gender_classification.csv\n/kaggle/input/project-1-face-recognition-ai-indonesia/Dataset/class_identity.txt\n",
          "output_type": "stream"
        }
      ]
    },
    {
      "cell_type": "code",
      "source": [
        "# If run outside kaggle\n",
        "\n",
        "# Import kaggle kylee kaggle api\n",
        "# !pip install gdown\n",
        "# import gdown\n",
        "# !gdown --id 1Cjzi6A_KVowViqUSLW3b5inNWkYsgf6d\n",
        "\n",
        "# !pip install kaggle\n",
        "# !mkdir -p /root/.kaggle\n",
        "# !mv kaggle.json /root/.kaggle\n",
        "# !chmod 600 /root/.kaggle/kaggle.json\n",
        "# !kaggle datasets download -d kyleev/project-1-face-recognition-ai-indonesia"
      ],
      "metadata": {
        "trusted": true,
        "id": "BxBFbR6z6__K"
      },
      "execution_count": null,
      "outputs": []
    },
    {
      "cell_type": "code",
      "source": [
        "MAIN_PATH = \"/kaggle/input/project-1-face-recognition-ai-indonesia/Dataset/\""
      ],
      "metadata": {
        "execution": {
          "iopub.status.busy": "2024-03-15T14:36:38.95375Z",
          "iopub.execute_input": "2024-03-15T14:36:38.954186Z",
          "iopub.status.idle": "2024-03-15T14:36:38.959609Z",
          "shell.execute_reply.started": "2024-03-15T14:36:38.954151Z",
          "shell.execute_reply": "2024-03-15T14:36:38.95845Z"
        },
        "trusted": true,
        "id": "_UPKBhNi6__L"
      },
      "execution_count": null,
      "outputs": []
    },
    {
      "cell_type": "code",
      "source": [
        "#@title General EDA\n",
        "\n",
        "list_attribute = pd.read_csv(MAIN_PATH + \"list_attribute.txt\", header = 1, delim_whitespace=\" \")"
      ],
      "metadata": {
        "trusted": true,
        "id": "xPEgJd6i6__L"
      },
      "execution_count": null,
      "outputs": []
    },
    {
      "cell_type": "code",
      "source": [
        "list_attribute.head()"
      ],
      "metadata": {
        "trusted": true,
        "id": "BczgKxhy6__M"
      },
      "execution_count": null,
      "outputs": []
    },
    {
      "cell_type": "code",
      "source": [
        "list_attribute.count()"
      ],
      "metadata": {
        "execution": {
          "iopub.status.busy": "2024-03-15T14:46:19.066801Z",
          "iopub.execute_input": "2024-03-15T14:46:19.067867Z",
          "iopub.status.idle": "2024-03-15T14:46:19.087138Z",
          "shell.execute_reply.started": "2024-03-15T14:46:19.067828Z",
          "shell.execute_reply": "2024-03-15T14:46:19.085988Z"
        },
        "trusted": true,
        "id": "eMgvB5Ts6__M",
        "outputId": "85456fe9-e272-4189-9f92-a5022faab029"
      },
      "execution_count": null,
      "outputs": [
        {
          "execution_count": 56,
          "output_type": "execute_result",
          "data": {
            "text/plain": "5_o_Clock_Shadow       202599\nArched_Eyebrows        202599\nAttractive             202599\nBags_Under_Eyes        202599\nBald                   202599\nBangs                  202599\nBig_Lips               202599\nBig_Nose               202599\nBlack_Hair             202599\nBlond_Hair             202599\nBlurry                 202599\nBrown_Hair             202599\nBushy_Eyebrows         202599\nChubby                 202599\nDouble_Chin            202599\nEyeglasses             202599\nGoatee                 202599\nGray_Hair              202599\nHeavy_Makeup           202599\nHigh_Cheekbones        202599\nMale                   202599\nMouth_Slightly_Open    202599\nMustache               202599\nNarrow_Eyes            202599\nNo_Beard               202599\nOval_Face              202599\nPale_Skin              202599\nPointy_Nose            202599\nReceding_Hairline      202599\nRosy_Cheeks            202599\nSideburns              202599\nSmiling                202599\nStraight_Hair          202599\nWavy_Hair              202599\nWearing_Earrings       202599\nWearing_Hat            202599\nWearing_Lipstick       202599\nWearing_Necklace       202599\nWearing_Necktie        202599\nYoung                  202599\ndtype: int64"
          },
          "metadata": {}
        }
      ]
    },
    {
      "cell_type": "code",
      "source": [
        "gender_classification  = pd.read_csv(MAIN_PATH+\"gender_classification.csv\")"
      ],
      "metadata": {
        "execution": {
          "iopub.status.busy": "2024-03-15T14:37:02.233421Z",
          "iopub.execute_input": "2024-03-15T14:37:02.233805Z",
          "iopub.status.idle": "2024-03-15T14:37:02.251029Z",
          "shell.execute_reply.started": "2024-03-15T14:37:02.233773Z",
          "shell.execute_reply": "2024-03-15T14:37:02.250099Z"
        },
        "trusted": true,
        "id": "r18L63eu6__N"
      },
      "execution_count": null,
      "outputs": []
    },
    {
      "cell_type": "code",
      "source": [
        "gender_classification.count()"
      ],
      "metadata": {
        "execution": {
          "iopub.status.busy": "2024-03-15T14:46:28.740702Z",
          "iopub.execute_input": "2024-03-15T14:46:28.741123Z",
          "iopub.status.idle": "2024-03-15T14:46:28.750512Z",
          "shell.execute_reply.started": "2024-03-15T14:46:28.741089Z",
          "shell.execute_reply": "2024-03-15T14:46:28.749256Z"
        },
        "trusted": true,
        "id": "-rjWFOGm6__O",
        "outputId": "b49a84ba-e094-44f3-e736-b5bca6aba219"
      },
      "execution_count": null,
      "outputs": [
        {
          "execution_count": 57,
          "output_type": "execute_result",
          "data": {
            "text/plain": "Male    5000\ndtype: int64"
          },
          "metadata": {}
        }
      ]
    },
    {
      "cell_type": "code",
      "source": [
        "gender_classification.head()"
      ],
      "metadata": {
        "execution": {
          "iopub.status.busy": "2024-03-15T15:02:11.642815Z",
          "iopub.execute_input": "2024-03-15T15:02:11.643252Z",
          "iopub.status.idle": "2024-03-15T15:02:11.653979Z",
          "shell.execute_reply.started": "2024-03-15T15:02:11.643218Z",
          "shell.execute_reply": "2024-03-15T15:02:11.652584Z"
        },
        "trusted": true,
        "id": "2wDv3dap6__P",
        "outputId": "927aa54b-0299-4bf0-9c17-54019343aa5a"
      },
      "execution_count": null,
      "outputs": [
        {
          "execution_count": 61,
          "output_type": "execute_result",
          "data": {
            "text/plain": "   Male\n0     1\n1     1\n2     1\n3     0\n4     0",
            "text/html": "<div>\n<style scoped>\n    .dataframe tbody tr th:only-of-type {\n        vertical-align: middle;\n    }\n\n    .dataframe tbody tr th {\n        vertical-align: top;\n    }\n\n    .dataframe thead th {\n        text-align: right;\n    }\n</style>\n<table border=\"1\" class=\"dataframe\">\n  <thead>\n    <tr style=\"text-align: right;\">\n      <th></th>\n      <th>Male</th>\n    </tr>\n  </thead>\n  <tbody>\n    <tr>\n      <th>0</th>\n      <td>1</td>\n    </tr>\n    <tr>\n      <th>1</th>\n      <td>1</td>\n    </tr>\n    <tr>\n      <th>2</th>\n      <td>1</td>\n    </tr>\n    <tr>\n      <th>3</th>\n      <td>0</td>\n    </tr>\n    <tr>\n      <th>4</th>\n      <td>0</td>\n    </tr>\n  </tbody>\n</table>\n</div>"
          },
          "metadata": {}
        }
      ]
    },
    {
      "cell_type": "markdown",
      "source": [
        "Question: List atribute > gender ds ??"
      ],
      "metadata": {
        "id": "lCRlWDvk6__P"
      }
    },
    {
      "cell_type": "code",
      "source": [
        "images_path = MAIN_PATH + \"Images\""
      ],
      "metadata": {
        "execution": {
          "iopub.status.busy": "2024-03-15T15:01:14.178733Z",
          "iopub.execute_input": "2024-03-15T15:01:14.180044Z",
          "iopub.status.idle": "2024-03-15T15:01:14.184826Z",
          "shell.execute_reply.started": "2024-03-15T15:01:14.179989Z",
          "shell.execute_reply": "2024-03-15T15:01:14.183821Z"
        },
        "trusted": true,
        "id": "oTUaZlPN6__R"
      },
      "execution_count": null,
      "outputs": []
    },
    {
      "cell_type": "code",
      "source": [
        "whole_data = pd.concat([gender_classification,list_attribute],axis=0 )"
      ],
      "metadata": {
        "execution": {
          "iopub.status.busy": "2024-03-15T15:01:38.695161Z",
          "iopub.execute_input": "2024-03-15T15:01:38.695581Z",
          "iopub.status.idle": "2024-03-15T15:01:38.764912Z",
          "shell.execute_reply.started": "2024-03-15T15:01:38.695547Z",
          "shell.execute_reply": "2024-03-15T15:01:38.763759Z"
        },
        "trusted": true,
        "id": "tq2uFPeB6__R"
      },
      "execution_count": null,
      "outputs": []
    },
    {
      "cell_type": "code",
      "source": [
        "\n",
        "whole_data"
      ],
      "metadata": {
        "execution": {
          "iopub.status.busy": "2024-03-15T15:01:39.138067Z",
          "iopub.execute_input": "2024-03-15T15:01:39.138462Z",
          "iopub.status.idle": "2024-03-15T15:01:39.385107Z",
          "shell.execute_reply.started": "2024-03-15T15:01:39.13843Z",
          "shell.execute_reply": "2024-03-15T15:01:39.384138Z"
        },
        "trusted": true,
        "id": "sdnaewcz6__S",
        "outputId": "022ef214-06ed-4bf5-96d1-fc73209d4092"
      },
      "execution_count": null,
      "outputs": [
        {
          "execution_count": 60,
          "output_type": "execute_result",
          "data": {
            "text/plain": "            Male  5_o_Clock_Shadow  Arched_Eyebrows  Attractive  \\\n0              1               NaN              NaN         NaN   \n1              1               NaN              NaN         NaN   \n2              1               NaN              NaN         NaN   \n3              0               NaN              NaN         NaN   \n4              0               NaN              NaN         NaN   \n...          ...               ...              ...         ...   \n202595.jpg    -1              -1.0             -1.0         1.0   \n202596.jpg     1              -1.0             -1.0        -1.0   \n202597.jpg     1              -1.0             -1.0        -1.0   \n202598.jpg    -1              -1.0              1.0         1.0   \n202599.jpg    -1              -1.0              1.0         1.0   \n\n            Bags_Under_Eyes  Bald  Bangs  Big_Lips  Big_Nose  Black_Hair  ...  \\\n0                       NaN   NaN    NaN       NaN       NaN         NaN  ...   \n1                       NaN   NaN    NaN       NaN       NaN         NaN  ...   \n2                       NaN   NaN    NaN       NaN       NaN         NaN  ...   \n3                       NaN   NaN    NaN       NaN       NaN         NaN  ...   \n4                       NaN   NaN    NaN       NaN       NaN         NaN  ...   \n...                     ...   ...    ...       ...       ...         ...  ...   \n202595.jpg             -1.0  -1.0   -1.0       1.0      -1.0        -1.0  ...   \n202596.jpg             -1.0  -1.0    1.0       1.0      -1.0        -1.0  ...   \n202597.jpg             -1.0  -1.0   -1.0      -1.0      -1.0         1.0  ...   \n202598.jpg             -1.0  -1.0   -1.0       1.0      -1.0         1.0  ...   \n202599.jpg             -1.0  -1.0   -1.0      -1.0      -1.0        -1.0  ...   \n\n            Sideburns  Smiling  Straight_Hair  Wavy_Hair  Wearing_Earrings  \\\n0                 NaN      NaN            NaN        NaN               NaN   \n1                 NaN      NaN            NaN        NaN               NaN   \n2                 NaN      NaN            NaN        NaN               NaN   \n3                 NaN      NaN            NaN        NaN               NaN   \n4                 NaN      NaN            NaN        NaN               NaN   \n...               ...      ...            ...        ...               ...   \n202595.jpg       -1.0     -1.0           -1.0       -1.0              -1.0   \n202596.jpg       -1.0      1.0            1.0       -1.0              -1.0   \n202597.jpg       -1.0      1.0           -1.0       -1.0              -1.0   \n202598.jpg       -1.0      1.0           -1.0        1.0               1.0   \n202599.jpg       -1.0     -1.0           -1.0        1.0              -1.0   \n\n            Wearing_Hat  Wearing_Lipstick  Wearing_Necklace  Wearing_Necktie  \\\n0                   NaN               NaN               NaN              NaN   \n1                   NaN               NaN               NaN              NaN   \n2                   NaN               NaN               NaN              NaN   \n3                   NaN               NaN               NaN              NaN   \n4                   NaN               NaN               NaN              NaN   \n...                 ...               ...               ...              ...   \n202595.jpg         -1.0               1.0              -1.0             -1.0   \n202596.jpg         -1.0              -1.0              -1.0             -1.0   \n202597.jpg         -1.0              -1.0              -1.0             -1.0   \n202598.jpg         -1.0               1.0              -1.0             -1.0   \n202599.jpg         -1.0               1.0              -1.0             -1.0   \n\n            Young  \n0             NaN  \n1             NaN  \n2             NaN  \n3             NaN  \n4             NaN  \n...           ...  \n202595.jpg    1.0  \n202596.jpg    1.0  \n202597.jpg    1.0  \n202598.jpg    1.0  \n202599.jpg    1.0  \n\n[207599 rows x 40 columns]",
            "text/html": "<div>\n<style scoped>\n    .dataframe tbody tr th:only-of-type {\n        vertical-align: middle;\n    }\n\n    .dataframe tbody tr th {\n        vertical-align: top;\n    }\n\n    .dataframe thead th {\n        text-align: right;\n    }\n</style>\n<table border=\"1\" class=\"dataframe\">\n  <thead>\n    <tr style=\"text-align: right;\">\n      <th></th>\n      <th>Male</th>\n      <th>5_o_Clock_Shadow</th>\n      <th>Arched_Eyebrows</th>\n      <th>Attractive</th>\n      <th>Bags_Under_Eyes</th>\n      <th>Bald</th>\n      <th>Bangs</th>\n      <th>Big_Lips</th>\n      <th>Big_Nose</th>\n      <th>Black_Hair</th>\n      <th>...</th>\n      <th>Sideburns</th>\n      <th>Smiling</th>\n      <th>Straight_Hair</th>\n      <th>Wavy_Hair</th>\n      <th>Wearing_Earrings</th>\n      <th>Wearing_Hat</th>\n      <th>Wearing_Lipstick</th>\n      <th>Wearing_Necklace</th>\n      <th>Wearing_Necktie</th>\n      <th>Young</th>\n    </tr>\n  </thead>\n  <tbody>\n    <tr>\n      <th>0</th>\n      <td>1</td>\n      <td>NaN</td>\n      <td>NaN</td>\n      <td>NaN</td>\n      <td>NaN</td>\n      <td>NaN</td>\n      <td>NaN</td>\n      <td>NaN</td>\n      <td>NaN</td>\n      <td>NaN</td>\n      <td>...</td>\n      <td>NaN</td>\n      <td>NaN</td>\n      <td>NaN</td>\n      <td>NaN</td>\n      <td>NaN</td>\n      <td>NaN</td>\n      <td>NaN</td>\n      <td>NaN</td>\n      <td>NaN</td>\n      <td>NaN</td>\n    </tr>\n    <tr>\n      <th>1</th>\n      <td>1</td>\n      <td>NaN</td>\n      <td>NaN</td>\n      <td>NaN</td>\n      <td>NaN</td>\n      <td>NaN</td>\n      <td>NaN</td>\n      <td>NaN</td>\n      <td>NaN</td>\n      <td>NaN</td>\n      <td>...</td>\n      <td>NaN</td>\n      <td>NaN</td>\n      <td>NaN</td>\n      <td>NaN</td>\n      <td>NaN</td>\n      <td>NaN</td>\n      <td>NaN</td>\n      <td>NaN</td>\n      <td>NaN</td>\n      <td>NaN</td>\n    </tr>\n    <tr>\n      <th>2</th>\n      <td>1</td>\n      <td>NaN</td>\n      <td>NaN</td>\n      <td>NaN</td>\n      <td>NaN</td>\n      <td>NaN</td>\n      <td>NaN</td>\n      <td>NaN</td>\n      <td>NaN</td>\n      <td>NaN</td>\n      <td>...</td>\n      <td>NaN</td>\n      <td>NaN</td>\n      <td>NaN</td>\n      <td>NaN</td>\n      <td>NaN</td>\n      <td>NaN</td>\n      <td>NaN</td>\n      <td>NaN</td>\n      <td>NaN</td>\n      <td>NaN</td>\n    </tr>\n    <tr>\n      <th>3</th>\n      <td>0</td>\n      <td>NaN</td>\n      <td>NaN</td>\n      <td>NaN</td>\n      <td>NaN</td>\n      <td>NaN</td>\n      <td>NaN</td>\n      <td>NaN</td>\n      <td>NaN</td>\n      <td>NaN</td>\n      <td>...</td>\n      <td>NaN</td>\n      <td>NaN</td>\n      <td>NaN</td>\n      <td>NaN</td>\n      <td>NaN</td>\n      <td>NaN</td>\n      <td>NaN</td>\n      <td>NaN</td>\n      <td>NaN</td>\n      <td>NaN</td>\n    </tr>\n    <tr>\n      <th>4</th>\n      <td>0</td>\n      <td>NaN</td>\n      <td>NaN</td>\n      <td>NaN</td>\n      <td>NaN</td>\n      <td>NaN</td>\n      <td>NaN</td>\n      <td>NaN</td>\n      <td>NaN</td>\n      <td>NaN</td>\n      <td>...</td>\n      <td>NaN</td>\n      <td>NaN</td>\n      <td>NaN</td>\n      <td>NaN</td>\n      <td>NaN</td>\n      <td>NaN</td>\n      <td>NaN</td>\n      <td>NaN</td>\n      <td>NaN</td>\n      <td>NaN</td>\n    </tr>\n    <tr>\n      <th>...</th>\n      <td>...</td>\n      <td>...</td>\n      <td>...</td>\n      <td>...</td>\n      <td>...</td>\n      <td>...</td>\n      <td>...</td>\n      <td>...</td>\n      <td>...</td>\n      <td>...</td>\n      <td>...</td>\n      <td>...</td>\n      <td>...</td>\n      <td>...</td>\n      <td>...</td>\n      <td>...</td>\n      <td>...</td>\n      <td>...</td>\n      <td>...</td>\n      <td>...</td>\n      <td>...</td>\n    </tr>\n    <tr>\n      <th>202595.jpg</th>\n      <td>-1</td>\n      <td>-1.0</td>\n      <td>-1.0</td>\n      <td>1.0</td>\n      <td>-1.0</td>\n      <td>-1.0</td>\n      <td>-1.0</td>\n      <td>1.0</td>\n      <td>-1.0</td>\n      <td>-1.0</td>\n      <td>...</td>\n      <td>-1.0</td>\n      <td>-1.0</td>\n      <td>-1.0</td>\n      <td>-1.0</td>\n      <td>-1.0</td>\n      <td>-1.0</td>\n      <td>1.0</td>\n      <td>-1.0</td>\n      <td>-1.0</td>\n      <td>1.0</td>\n    </tr>\n    <tr>\n      <th>202596.jpg</th>\n      <td>1</td>\n      <td>-1.0</td>\n      <td>-1.0</td>\n      <td>-1.0</td>\n      <td>-1.0</td>\n      <td>-1.0</td>\n      <td>1.0</td>\n      <td>1.0</td>\n      <td>-1.0</td>\n      <td>-1.0</td>\n      <td>...</td>\n      <td>-1.0</td>\n      <td>1.0</td>\n      <td>1.0</td>\n      <td>-1.0</td>\n      <td>-1.0</td>\n      <td>-1.0</td>\n      <td>-1.0</td>\n      <td>-1.0</td>\n      <td>-1.0</td>\n      <td>1.0</td>\n    </tr>\n    <tr>\n      <th>202597.jpg</th>\n      <td>1</td>\n      <td>-1.0</td>\n      <td>-1.0</td>\n      <td>-1.0</td>\n      <td>-1.0</td>\n      <td>-1.0</td>\n      <td>-1.0</td>\n      <td>-1.0</td>\n      <td>-1.0</td>\n      <td>1.0</td>\n      <td>...</td>\n      <td>-1.0</td>\n      <td>1.0</td>\n      <td>-1.0</td>\n      <td>-1.0</td>\n      <td>-1.0</td>\n      <td>-1.0</td>\n      <td>-1.0</td>\n      <td>-1.0</td>\n      <td>-1.0</td>\n      <td>1.0</td>\n    </tr>\n    <tr>\n      <th>202598.jpg</th>\n      <td>-1</td>\n      <td>-1.0</td>\n      <td>1.0</td>\n      <td>1.0</td>\n      <td>-1.0</td>\n      <td>-1.0</td>\n      <td>-1.0</td>\n      <td>1.0</td>\n      <td>-1.0</td>\n      <td>1.0</td>\n      <td>...</td>\n      <td>-1.0</td>\n      <td>1.0</td>\n      <td>-1.0</td>\n      <td>1.0</td>\n      <td>1.0</td>\n      <td>-1.0</td>\n      <td>1.0</td>\n      <td>-1.0</td>\n      <td>-1.0</td>\n      <td>1.0</td>\n    </tr>\n    <tr>\n      <th>202599.jpg</th>\n      <td>-1</td>\n      <td>-1.0</td>\n      <td>1.0</td>\n      <td>1.0</td>\n      <td>-1.0</td>\n      <td>-1.0</td>\n      <td>-1.0</td>\n      <td>-1.0</td>\n      <td>-1.0</td>\n      <td>-1.0</td>\n      <td>...</td>\n      <td>-1.0</td>\n      <td>-1.0</td>\n      <td>-1.0</td>\n      <td>1.0</td>\n      <td>-1.0</td>\n      <td>-1.0</td>\n      <td>1.0</td>\n      <td>-1.0</td>\n      <td>-1.0</td>\n      <td>1.0</td>\n    </tr>\n  </tbody>\n</table>\n<p>207599 rows × 40 columns</p>\n</div>"
          },
          "metadata": {}
        }
      ]
    },
    {
      "cell_type": "markdown",
      "source": [
        "Untuk mensamakan data fto yg ada di class atribute, dapat digunakan file class identity"
      ],
      "metadata": {
        "id": "LP4HaDQO6__S"
      }
    },
    {
      "cell_type": "code",
      "source": [
        "class_identity = pd.read_csv(MAIN_PATH + \"class_identity.txt\", names = [\"file\", ])"
      ],
      "metadata": {
        "id": "ntaSr1GI6__S"
      },
      "execution_count": null,
      "outputs": []
    }
  ]
}